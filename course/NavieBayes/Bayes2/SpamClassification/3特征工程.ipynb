{
 "cells": [
  {
   "cell_type": "markdown",
   "metadata": {},
   "source": [
    "# 导入库"
   ]
  },
  {
   "cell_type": "code",
   "execution_count": 60,
   "metadata": {},
   "outputs": [],
   "source": [
    "import numpy as np\n",
    "import pandas as pd\n",
    "import os\n",
    "\n",
    "import matplotlib.pyplot as plt\n",
    "import seaborn as sns"
   ]
  },
  {
   "cell_type": "code",
   "execution_count": 61,
   "metadata": {},
   "outputs": [],
   "source": [
    "## 设置字符集，防止中文乱码\n",
    "plt.rcParams['font.sans-serif']=['simHei']\n",
    "plt.rcParams['axes.unicode_minus']=False"
   ]
  },
  {
   "cell_type": "code",
   "execution_count": 62,
   "metadata": {},
   "outputs": [],
   "source": [
    "# jupyter展示图片，非内嵌显示; 这段代码不属于python代码； 相当于是jupyter的工具参数设置\n",
    "# tk: 显示出来，inline：内嵌显示，默认为inline\n",
    "%matplotlib inline"
   ]
  },
  {
   "cell_type": "markdown",
   "metadata": {},
   "source": [
    "# 导入数据"
   ]
  },
  {
   "cell_type": "code",
   "execution_count": 63,
   "metadata": {},
   "outputs": [
    {
     "data": {
      "text/plain": "          from            to  date  \\\n0      unknown  ccert.edu.cn  10.0   \n1    jdl.ac.cn  ccert.edu.cn  10.0   \n2      163.con  ccert.edu.cn  10.0   \n3       12.com  ccert.edu.cn  10.0   \n4  dghhkjk.com  ccert.edu.cn  10.0   \n\n                                             content  label  \n0  非 财务 纠淼 牟 莆 窆 芾 - （ 沙盘 模拟 ） - - - - - - 如何 运用 ...      1  \n1  讲 的 是 孔子 后人 的 故事 。 一个 老 领导 回到 家乡 ， 跟 儿子 感情 不 和...      0  \n2  尊敬 的 贵 公司 ( 财务 / 经理 ) 负责人 您好 ！ 我 是 深圳 金海 实业 有限...      1  \n3  贵 公司 负责人 ( 经理 / 财务 ） 您好 ： 深圳市 华龙 公司 受 多家 公司 委托...      1  \n4  这是 一封 HTML 格式 信件 ！ - - - - - - - - - - - - - -...      1  ",
      "text/html": "<div>\n<style scoped>\n    .dataframe tbody tr th:only-of-type {\n        vertical-align: middle;\n    }\n\n    .dataframe tbody tr th {\n        vertical-align: top;\n    }\n\n    .dataframe thead th {\n        text-align: right;\n    }\n</style>\n<table border=\"1\" class=\"dataframe\">\n  <thead>\n    <tr style=\"text-align: right;\">\n      <th></th>\n      <th>from</th>\n      <th>to</th>\n      <th>date</th>\n      <th>content</th>\n      <th>label</th>\n    </tr>\n  </thead>\n  <tbody>\n    <tr>\n      <th>0</th>\n      <td>unknown</td>\n      <td>ccert.edu.cn</td>\n      <td>10.0</td>\n      <td>非 财务 纠淼 牟 莆 窆 芾 - （ 沙盘 模拟 ） - - - - - - 如何 运用 ...</td>\n      <td>1</td>\n    </tr>\n    <tr>\n      <th>1</th>\n      <td>jdl.ac.cn</td>\n      <td>ccert.edu.cn</td>\n      <td>10.0</td>\n      <td>讲 的 是 孔子 后人 的 故事 。 一个 老 领导 回到 家乡 ， 跟 儿子 感情 不 和...</td>\n      <td>0</td>\n    </tr>\n    <tr>\n      <th>2</th>\n      <td>163.con</td>\n      <td>ccert.edu.cn</td>\n      <td>10.0</td>\n      <td>尊敬 的 贵 公司 ( 财务 / 经理 ) 负责人 您好 ！ 我 是 深圳 金海 实业 有限...</td>\n      <td>1</td>\n    </tr>\n    <tr>\n      <th>3</th>\n      <td>12.com</td>\n      <td>ccert.edu.cn</td>\n      <td>10.0</td>\n      <td>贵 公司 负责人 ( 经理 / 财务 ） 您好 ： 深圳市 华龙 公司 受 多家 公司 委托...</td>\n      <td>1</td>\n    </tr>\n    <tr>\n      <th>4</th>\n      <td>dghhkjk.com</td>\n      <td>ccert.edu.cn</td>\n      <td>10.0</td>\n      <td>这是 一封 HTML 格式 信件 ！ - - - - - - - - - - - - - -...</td>\n      <td>1</td>\n    </tr>\n  </tbody>\n</table>\n</div>"
     },
     "execution_count": 63,
     "metadata": {},
     "output_type": "execute_result"
    }
   ],
   "source": [
    "data = pd.read_csv('./datas/data_pre.csv',encoding='utf8')\n",
    "data.head()"
   ]
  },
  {
   "cell_type": "markdown",
   "metadata": {},
   "source": [
    "# 特征工程"
   ]
  },
  {
   "cell_type": "markdown",
   "metadata": {},
   "source": [
    "## from发件人邮箱"
   ]
  },
  {
   "cell_type": "code",
   "execution_count": 64,
   "metadata": {},
   "outputs": [
    {
     "name": "stdout",
     "output_type": "stream",
     "text": [
      "邮件统计：\n",
      " 163.com                  7500\n",
      "mail.tsinghua.edu.cn     6498\n",
      "126.com                  5822\n",
      "tom.com                  4075\n",
      "mails.tsinghua.edu.cn    3205\n",
      "unknown                  2100\n",
      "12.com                   2057\n",
      "cernet.com               1537\n",
      "sohu.com                 1430\n",
      "yahoo.com.cn             1374\n",
      "21cn.com                 1166\n",
      "jdl.ac.cn                 775\n",
      "Name: from, dtype: int64 \n",
      "\n",
      "正常邮件统计：\n",
      " mail.tsinghua.edu.cn      6495\n",
      "mails.tsinghua.edu.cn     3203\n",
      "126.com                   1569\n",
      "cernet.com                1537\n",
      "163.com                    971\n",
      "sohu.com                   834\n",
      "jdl.ac.cn                  775\n",
      "mail.nisac.gov.cn          669\n",
      "scan.ccert.edu.cn          523\n",
      "ns.6test.edu.cn            452\n",
      "stu.ee.tsinghua.edu.cn     420\n",
      "dlut.edu.cn                364\n",
      "Name: from, dtype: int64 \n",
      "\n",
      "垃圾邮件统计：\n",
      " 163.com         6529\n",
      "126.com         4253\n",
      "tom.com         4075\n",
      "12.com          2057\n",
      "unknown         1997\n",
      "21cn.com        1166\n",
      "yahoo.com.cn    1061\n",
      "sina.com         771\n",
      "sohu.com         596\n",
      "yahoo.com        461\n",
      "sian.com         437\n",
      "hotmail.com      430\n",
      "Name: from, dtype: int64 \n",
      "\n"
     ]
    }
   ],
   "source": [
    "print('邮件统计：\\n',data['from'].value_counts().head(12),'\\n')\n",
    "print('正常邮件统计：\\n',data[data['label'] == 0]['from'].value_counts().head(12),'\\n')\n",
    "print('垃圾邮件统计：\\n',data[data['label'] == 1]['from'].value_counts().head(12),'\\n')"
   ]
  },
  {
   "cell_type": "code",
   "execution_count": 65,
   "outputs": [
    {
     "name": "stdout",
     "output_type": "stream",
     "text": [
      "邮件统计：\n",
      " mail.nisac.gov.cn    669\n",
      "Name: from, dtype: int64 \n",
      "\n",
      "邮件统计：\n",
      " scan.ccert.edu.cn    524\n",
      "Name: from, dtype: int64 \n",
      "\n",
      "邮件统计：\n",
      " ns.6test.edu.cn    452\n",
      "Name: from, dtype: int64 \n",
      "\n",
      "邮件统计：\n",
      " stu.ee.tsinghua.edu.cn    420\n",
      "Name: from, dtype: int64 \n",
      "\n",
      "邮件统计：\n",
      " dlut.edu.cn    365\n",
      "Name: from, dtype: int64 \n",
      "\n",
      "邮件统计：\n",
      " yahoo.com.cn    1374\n",
      "Name: from, dtype: int64 \n",
      "\n",
      "邮件统计：\n",
      " sina.com    771\n",
      "Name: from, dtype: int64 \n",
      "\n",
      "邮件统计：\n",
      " sohu.com    1430\n",
      "Name: from, dtype: int64 \n",
      "\n",
      "邮件统计：\n",
      " yahoo.com    502\n",
      "Name: from, dtype: int64 \n",
      "\n",
      "邮件统计：\n",
      " sian.com    437\n",
      "Name: from, dtype: int64 \n",
      "\n",
      "邮件统计：\n",
      " hotmail.com    523\n",
      "Name: from, dtype: int64 \n",
      "\n"
     ]
    }
   ],
   "source": [
    "print('邮件统计：\\n',data[data['from']=='mail.nisac.gov.cn']['from'].value_counts(),'\\n')\n",
    "print('邮件统计：\\n',data[data['from']=='scan.ccert.edu.cn']['from'].value_counts(),'\\n')\n",
    "print('邮件统计：\\n',data[data['from']=='ns.6test.edu.cn']['from'].value_counts(),'\\n')\n",
    "print('邮件统计：\\n',data[data['from']=='stu.ee.tsinghua.edu.cn']['from'].value_counts(),'\\n')\n",
    "print('邮件统计：\\n',data[data['from']=='dlut.edu.cn']['from'].value_counts(),'\\n')\n",
    "print('邮件统计：\\n',data[data['from']=='yahoo.com.cn']['from'].value_counts(),'\\n')\n",
    "print('邮件统计：\\n',data[data['from']=='sina.com']['from'].value_counts(),'\\n')\n",
    "print('邮件统计：\\n',data[data['from']=='sohu.com']['from'].value_counts(),'\\n')\n",
    "print('邮件统计：\\n',data[data['from']=='yahoo.com']['from'].value_counts(),'\\n')\n",
    "print('邮件统计：\\n',data[data['from']=='sian.com']['from'].value_counts(),'\\n')\n",
    "print('邮件统计：\\n',data[data['from']=='hotmail.com']['from'].value_counts(),'\\n')\n",
    "\n"
   ],
   "metadata": {
    "collapsed": false,
    "pycharm": {
     "name": "#%%\n"
    }
   }
  },
  {
   "cell_type": "code",
   "execution_count": 66,
   "metadata": {},
   "outputs": [],
   "source": [
    "# 对于每个发件箱进行处理(因为下列这些邮件的发送服务器产生的邮件中，正常邮件和异常邮件的比例比较悬殊)\n",
    "# 如果邮件是从163.com、126.com、21cn.com、tom.com、12.com等这些服务器发送过来的，那么有很大的可能直接属于垃圾邮件\n",
    "# 如果邮件是从mail.tsinghua.edu.cn、mails.tsinghua.edu.cn、cernet.com等这些服务器发送过程了，那么有很大可能直接属于正常邮件\n",
    "# 这里新建一些特征，只对大于1000以上的邮件进行新建特征\n",
    "data['from_163'] = data['from'].map(lambda row: 1 if row == '163.com' else 0)\n",
    "data['from_tsinghua'] = data['from'].map(lambda row: int(row == 'mail.tsinghua.edu.cn' or row == 'mail.tsinghua.edu.cn'))\n",
    "data['from_126'] = data['from'].map(lambda row: int(row == '126.com'))\n",
    "data['from_yahoo'] = data['from'].map(lambda row: int(row == 'yahoo.com.cn'))\n",
    "data['from_12'] = data['from'].map(lambda row: int(row == '12.com'))\n",
    "data['from_21'] = data['from'].map(lambda row: int(row == '21cn.com'))\n",
    "data['from_tom'] = data['from'].map(lambda row: int(row == 'tom.com'))\n",
    "data['from_cernet'] = data['from'].map(lambda row: int(row == 'cernet.com'))\n",
    "data['from_sohu'] = data['from'].map(lambda row: int(row == 'sohu.com'))\n",
    "data['from_unknown'] = data['from'].map(lambda row: int(row == 'unknown'))"
   ]
  },
  {
   "cell_type": "markdown",
   "metadata": {},
   "source": [
    "## to收件人邮箱"
   ]
  },
  {
   "cell_type": "code",
   "execution_count": 67,
   "metadata": {},
   "outputs": [
    {
     "name": "stdout",
     "output_type": "stream",
     "text": [
      "邮件统计：\n",
      " ccert.edu.cn         64408\n",
      "unknown                192\n",
      "yahoo.com.cn             8\n",
      "163.net                  3\n",
      "quanso.com               2\n",
      "tiny.net                 1\n",
      "beisen.com               1\n",
      "net.edu.cn               1\n",
      "hpchina.cn               1\n",
      "staff.sina.com.cn        1\n",
      "htblade.com              1\n",
      "mail.china.com           1\n",
      "Name: to, dtype: int64 \n",
      "\n"
     ]
    }
   ],
   "source": [
    "print('邮件统计：\\n',data['to'].value_counts().head(12),'\\n')"
   ]
  },
  {
   "cell_type": "markdown",
   "metadata": {},
   "source": [
    "99%都属于一个类别，这个特征基本上没有什么作用"
   ]
  },
  {
   "cell_type": "markdown",
   "metadata": {},
   "source": [
    "## date时间"
   ]
  },
  {
   "cell_type": "code",
   "execution_count": 68,
   "metadata": {},
   "outputs": [
    {
     "data": {
      "text/plain": "19.0    2835\n16.0    2772\n15.0    2750\n20.0    2746\n17.0    2742\n18.0    2739\n22.0    2726\n10.0    2721\n1.0     2716\n14.0    2702\n23.0    2698\n9.0     2691\n12.0    2677\n11.0    2668\n7.0     2638\n21.0    2632\n13.0    2621\n0.0     2620\n5.0     2613\n2.0     2604\n4.0     2595\n8.0     2533\n3.0     2521\n6.0     2506\n24.0       1\nName: date, dtype: int64"
     },
     "execution_count": 68,
     "metadata": {},
     "output_type": "execute_result"
    }
   ],
   "source": [
    "data['date'].value_counts()"
   ]
  },
  {
   "cell_type": "code",
   "execution_count": 69,
   "metadata": {},
   "outputs": [],
   "source": [
    "data[data['date']==24] = 0 # 24点和0点一致"
   ]
  },
  {
   "cell_type": "code",
   "execution_count": 70,
   "metadata": {},
   "outputs": [],
   "source": [
    "# 新建一个时间区间特征，根据人很少在晚上12点后发邮件\n",
    "def func(row):\n",
    "    if 8<row<12:\n",
    "        return 1\n",
    "    elif 12<row<18:\n",
    "        return 2\n",
    "    elif 18<row<23:\n",
    "        return 3\n",
    "    elif row>23 or row<8:\n",
    "        return 4\n",
    "    else:\n",
    "        return 5\n",
    "    \n",
    "data['time_area'] = data['date'].apply(func)"
   ]
  },
  {
   "cell_type": "markdown",
   "metadata": {},
   "source": [
    "## content内容特征"
   ]
  },
  {
   "cell_type": "code",
   "execution_count": 71,
   "metadata": {},
   "outputs": [
    {
     "data": {
      "text/plain": "0    非 财务 纠淼 牟 莆 窆 芾 - （ 沙盘 模拟 ） - - - - - - 如何 运用 ...\n1    讲 的 是 孔子 后人 的 故事 。 一个 老 领导 回到 家乡 ， 跟 儿子 感情 不 和...\n2    尊敬 的 贵 公司 ( 财务 / 经理 ) 负责人 您好 ！ 我 是 深圳 金海 实业 有限...\n3    贵 公司 负责人 ( 经理 / 财务 ） 您好 ： 深圳市 华龙 公司 受 多家 公司 委托...\n4    这是 一封 HTML 格式 信件 ！ - - - - - - - - - - - - - -...\nName: content, dtype: object"
     },
     "execution_count": 71,
     "metadata": {},
     "output_type": "execute_result"
    }
   ],
   "source": [
    "data['content'].head()"
   ]
  },
  {
   "cell_type": "markdown",
   "metadata": {},
   "source": [
    "### 新建文本长度特征"
   ]
  },
  {
   "cell_type": "code",
   "execution_count": 72,
   "metadata": {},
   "outputs": [],
   "source": [
    "def func(row):\n",
    "    length = len(row)\n",
    "    \n",
    "    if length<10:\n",
    "        return 1\n",
    "    elif length<100:\n",
    "        return 2\n",
    "    elif length<500:\n",
    "        return 3\n",
    "    elif length<1000:\n",
    "        return 4\n",
    "    elif length<2000:\n",
    "        return 5\n",
    "    elif length<3000:\n",
    "        return 6\n",
    "    elif length<5000:\n",
    "        return 7\n",
    "    elif length<8000:\n",
    "        return 8\n",
    "    else:\n",
    "        return 9\n",
    "\n",
    "data.content = data.content.astype('str')\n",
    "data['content_length'] = data.content.apply(func)"
   ]
  },
  {
   "cell_type": "code",
   "execution_count": 73,
   "metadata": {},
   "outputs": [
    {
     "data": {
      "text/plain": "content_length  label\n1               1          417\n                0           16\n2               1         2687\n                0           95\n3               1        16509\n                0        12369\n4               1        11078\n                0         5909\n5               1         5563\n                0         1670\n6               1         2168\n                0          576\n7               1         2530\n                0          443\n8               1         1229\n                0          276\n9               1          672\n                0          413\nName: label, dtype: int64"
     },
     "execution_count": 73,
     "metadata": {},
     "output_type": "execute_result"
    }
   ],
   "source": [
    "data.groupby('content_length')['label'].value_counts()"
   ]
  },
  {
   "cell_type": "code",
   "execution_count": 74,
   "metadata": {},
   "outputs": [
    {
     "data": {
      "text/plain": "<matplotlib.axes._subplots.AxesSubplot at 0x2bf43755b48>"
     },
     "execution_count": 74,
     "metadata": {},
     "output_type": "execute_result"
    },
    {
     "data": {
      "text/plain": "<Figure size 432x288 with 1 Axes>",
      "image/png": "[encoded data removed]"
     },
     "metadata": {
      "needs_background": "light"
     },
     "output_type": "display_data"
    }
   ],
   "source": [
    "sns.barplot(x='content_length',y='label',data=data)"
   ]
  },
  {
   "cell_type": "markdown",
   "metadata": {},
   "source": [
    "### 将文本数据转换为数值型数据"
   ]
  },
  {
   "cell_type": "code",
   "execution_count": 75,
   "metadata": {},
   "outputs": [],
   "source": [
    "from sklearn.feature_extraction.text import TfidfVectorizer\n",
    "from sklearn.decomposition import TruncatedSVD\n",
    "import joblib\n",
    "import os"
   ]
  },
  {
   "cell_type": "code",
   "execution_count": 76,
   "metadata": {},
   "outputs": [
    {
     "data": {
      "text/plain": "['$',\n '0',\n '1',\n '2',\n '3',\n '4',\n '5',\n '6',\n '7',\n '8',\n '9',\n '?',\n '_',\n '“',\n '”',\n '、',\n '。',\n '《',\n '》',\n '一',\n '一些',\n '一何',\n '一切',\n '一则',\n '一方面',\n '一旦',\n '一来',\n '一样',\n '一般',\n '一转眼',\n '万一',\n '上',\n '上下',\n '下',\n '不',\n '不仅',\n '不但',\n '不光',\n '不单',\n '不只',\n '不外乎',\n '不如',\n '不妨',\n '不尽',\n '不尽然',\n '不得',\n '不怕',\n '不惟',\n '不成',\n '不拘',\n '不料',\n '不是',\n '不比',\n '不然',\n '不特',\n '不独',\n '不管',\n '不至于',\n '不若',\n '不论',\n '不过',\n '不问',\n '与',\n '与其',\n '与其说',\n '与否',\n '与此同时',\n '且',\n '且不说',\n '且说',\n '两者',\n '个',\n '个别',\n '临',\n '为',\n '为了',\n '为什么',\n '为何',\n '为止',\n '为此',\n '为着',\n '乃',\n '乃至',\n '乃至于',\n '么',\n '之',\n '之一',\n '之所以',\n '之类',\n '乌乎',\n '乎',\n '乘',\n '也',\n '也好',\n '也罢',\n '了',\n '二来',\n '于',\n '于是',\n '于是乎',\n '云云',\n '云尔',\n '些',\n '亦',\n '人',\n '人们',\n '人家',\n '什么',\n '什么样',\n '今',\n '介于',\n '仍',\n '仍旧',\n '从',\n '从此',\n '从而',\n '他',\n '他人',\n '他们',\n '以',\n '以上',\n '以为',\n '以便',\n '以免',\n '以及',\n '以故',\n '以期',\n '以来',\n '以至',\n '以至于',\n '以致',\n '们',\n '任',\n '任何',\n '任凭',\n '似的',\n '但',\n '但凡',\n '但是',\n '何',\n '何以',\n '何况',\n '何处',\n '何时',\n '余外',\n '作为',\n '你',\n '你们',\n '使',\n '使得',\n '例如',\n '依',\n '依据',\n '依照',\n '便于',\n '俺',\n '俺们',\n '倘',\n '倘使',\n '倘或',\n '倘然',\n '倘若',\n '借',\n '假使',\n '假如',\n '假若',\n '傥然',\n '像',\n '儿',\n '先不先',\n '光是',\n '全体',\n '全部',\n '兮',\n '关于',\n '其',\n '其一',\n '其中',\n '其二',\n '其他',\n '其余',\n '其它',\n '其次',\n '具体地说',\n '具体说来',\n '兼之',\n '内',\n '再',\n '再其次',\n '再则',\n '再有',\n '再者',\n '再者说',\n '再说',\n '冒',\n '冲',\n '况且',\n '几',\n '几时',\n '凡',\n '凡是',\n '凭',\n '凭借',\n '出于',\n '出来',\n '分别',\n '则',\n '则甚',\n '别',\n '别人',\n '别处',\n '别是',\n '别的',\n '别管',\n '别说',\n '到',\n '前后',\n '前此',\n '前者',\n '加之',\n '加以',\n '即',\n '即令',\n '即使',\n '即便',\n '即如',\n '即或',\n '即若',\n '却',\n '去',\n '又',\n '又及',\n '及',\n '及其',\n '及至',\n '反之',\n '反而',\n '反过来',\n '反过来说',\n '受到',\n '另',\n '另一方面',\n '另外',\n '另悉',\n '只',\n '只当',\n '只怕',\n '只是',\n '只有',\n '只消',\n '只要',\n '只限',\n '叫',\n '叮咚',\n '可',\n '可以',\n '可是',\n '可见',\n '各',\n '各个',\n '各位',\n '各种',\n '各自',\n '同',\n '同时',\n '后',\n '后者',\n '向',\n '向使',\n '向着',\n '吓',\n '吗',\n '否则',\n '吧',\n '吧哒',\n '吱',\n '呀',\n '呃',\n '呕',\n '呗',\n '呜',\n '呜呼',\n '呢',\n '呵',\n '呵呵',\n '呸',\n '呼哧',\n '咋',\n '和',\n '咚',\n '咦',\n '咧',\n '咱',\n '咱们',\n '咳',\n '哇',\n '哈',\n '哈哈',\n '哉',\n '哎',\n '哎呀',\n '哎哟',\n '哗',\n '哟',\n '哦',\n '哩',\n '哪',\n '哪个',\n '哪些',\n '哪儿',\n '哪天',\n '哪年',\n '哪怕',\n '哪样',\n '哪边',\n '哪里',\n '哼',\n '哼唷',\n '唉',\n '唯有',\n '啊',\n '啐',\n '啥',\n '啦',\n '啪达',\n '啷当',\n '喂',\n '喏',\n '喔唷',\n '喽',\n '嗡',\n '嗡嗡',\n '嗬',\n '嗯',\n '嗳',\n '嘎',\n '嘎登',\n '嘘',\n '嘛',\n '嘻',\n '嘿',\n '嘿嘿',\n '因',\n '因为',\n '因了',\n '因此',\n '因着',\n '因而',\n '固然',\n '在',\n '在下',\n '在于',\n '地',\n '基于',\n '处在',\n '多',\n '多么',\n '多少',\n '大',\n '大家',\n '她',\n '她们',\n '好',\n '如',\n '如上',\n '如上所述',\n '如下',\n '如何',\n '如其',\n '如同',\n '如是',\n '如果',\n '如此',\n '如若',\n '始而',\n '孰料',\n '孰知',\n '宁',\n '宁可',\n '宁愿',\n '宁肯',\n '它',\n '它们',\n '对',\n '对于',\n '对待',\n '对方',\n '对比',\n '将',\n '小',\n '尔',\n '尔后',\n '尔尔',\n '尚且',\n '就',\n '就是',\n '就是了',\n '就是说',\n '就算',\n '就要',\n '尽',\n '尽管',\n '尽管如此',\n '岂但',\n '己',\n '已',\n '已矣',\n '巴',\n '巴巴',\n '并',\n '并且',\n '并非',\n '庶乎',\n '庶几',\n '开外',\n '开始',\n '归',\n '归齐',\n '当',\n '当地',\n '当然',\n '当着',\n '彼',\n '彼时',\n '彼此',\n '往',\n '待',\n '很',\n '得',\n '得了',\n '怎',\n '怎么',\n '怎么办',\n '怎么样',\n '怎奈',\n '怎样',\n '总之',\n '总的来看',\n '总的来说',\n '总的说来',\n '总而言之',\n '恰恰相反',\n '您',\n '惟其',\n '慢说',\n '我',\n '我们',\n '或',\n '或则',\n '或是',\n '或曰',\n '或者',\n '截至',\n '所',\n '所以',\n '所在',\n '所幸',\n '所有',\n '才',\n '才能',\n '打',\n '打从',\n '把',\n '抑或',\n '拿',\n '按',\n '按照',\n '换句话说',\n '换言之',\n '据',\n '据此',\n '接着',\n '故',\n '故此',\n '故而',\n '旁人',\n '无',\n '无宁',\n '无论',\n '既',\n '既往',\n '既是',\n '既然',\n '时候',\n '是',\n '是以',\n '是的',\n '曾',\n '替',\n '替代',\n '最',\n '有',\n '有些',\n '有关',\n '有及',\n '有时',\n '有的',\n '望',\n '朝',\n '朝着',\n '本',\n '本人',\n '本地',\n '本着',\n '本身',\n '来',\n '来着',\n '来自',\n '来说',\n '极了',\n '果然',\n '果真',\n '某',\n '某个',\n '某些',\n '某某',\n '根据',\n '欤',\n '正值',\n '正如',\n '正巧',\n '正是',\n '此',\n '此地',\n '此处',\n '此外',\n '此时',\n '此次',\n '此间',\n '毋宁',\n '每',\n '每当',\n '比',\n '比及',\n '比如',\n '比方',\n '没奈何',\n '沿',\n '沿着',\n '漫说',\n '焉',\n '然则',\n '然后',\n '然而',\n '照',\n '照着',\n '犹且',\n '犹自',\n '甚且',\n '甚么',\n '甚或',\n '甚而',\n '甚至',\n '甚至于',\n '用',\n '用来',\n '由',\n '由于',\n '由是',\n '由此',\n '由此可见',\n '的',\n '的确',\n '的话',\n '直到',\n '相对而言',\n '省得',\n '看',\n '眨眼',\n '着',\n '着呢',\n '矣',\n '矣乎',\n '矣哉',\n '离',\n '竟而',\n '第',\n '等',\n '等到',\n '等等',\n '简言之',\n '管',\n '类如',\n '紧接着',\n '纵',\n '纵令',\n '纵使',\n '纵然',\n '经',\n '经过',\n '结果',\n '给',\n '继之',\n '继后',\n '继而',\n '综上所述',\n '罢了',\n '者',\n '而',\n '而且',\n '而况',\n '而后',\n '而外',\n '而已',\n '而是',\n '而言',\n '能',\n '能否',\n '腾',\n '自',\n '自个儿',\n '自从',\n '自各儿',\n '自后',\n '自家',\n '自己',\n '自打',\n '自身',\n '至',\n '至于',\n '至今',\n '至若',\n '致',\n '般的',\n '若',\n '若夫',\n '若是',\n '若果',\n '若非',\n '莫不然',\n '莫如',\n '莫若',\n '虽',\n '虽则',\n '虽然',\n '虽说',\n '被',\n '要',\n '要不',\n '要不是',\n '要不然',\n '要么',\n '要是',\n '譬喻',\n '譬如',\n '让',\n '许多',\n '论',\n '设使',\n '设或',\n '设若',\n '诚如',\n '诚然',\n '该',\n '说来',\n '诸',\n '诸位',\n '诸如',\n '谁',\n '谁人',\n '谁料',\n '谁知',\n '贼死',\n '赖以',\n '赶',\n '起',\n '起见',\n '趁',\n '趁着',\n '越是',\n '距',\n '跟',\n '较',\n '较之',\n '边',\n '过',\n '还',\n '还是',\n '还有',\n '还要',\n '这',\n '这一来',\n '这个',\n '这么',\n '这么些',\n '这么样',\n '这么点儿',\n '这些',\n '这会儿',\n '这儿',\n '这就是说',\n '这时',\n '这样',\n '这次',\n '这般',\n '这边',\n '这里',\n '进而',\n '连',\n '连同',\n '逐步',\n '通过',\n '遵循',\n '遵照',\n '那',\n '那个',\n '那么',\n '那么些',\n '那么样',\n '那些',\n '那会儿',\n '那儿',\n '那时',\n '那样',\n '那般',\n '那边',\n '那里',\n '都',\n '鄙人',\n '鉴于',\n '针对',\n '阿',\n '除',\n '除了',\n '除外',\n '除开',\n '除此之外',\n '除非',\n '随',\n '随后',\n '随时',\n '随着',\n '难道说',\n '非但',\n '非徒',\n '非特',\n '非独',\n '靠',\n '顺',\n '顺着',\n '首先',\n '！',\n '，',\n '：',\n '；',\n '？']"
     },
     "execution_count": 76,
     "metadata": {},
     "output_type": "execute_result"
    }
   ],
   "source": [
    "# 获取中文停用词表\n",
    "stopwordspath = './datas/ChineseStopWords.txt'\n",
    "stopList = []\n",
    "# for line in open(\"./datas/ChineseStopWords.txt\",encoding='utf-8'):\n",
    "#     stopList.append(line[:len(line) - 1])\n",
    "stopList = open(stopwordspath,encoding='utf-8').read().replace('\\n', ' ').split()\n",
    "stopList"
   ]
  },
  {
   "cell_type": "code",
   "execution_count": 77,
   "outputs": [
    {
     "data": {
      "text/plain": "        from            to  date  \\\n0    unknown  ccert.edu.cn  10.0   \n1  jdl.ac.cn  ccert.edu.cn  10.0   \n\n                                             content  label  from_163  \\\n0  非 财务 纠淼 牟 莆 窆 芾 - （ 沙盘 模拟 ） - - - - - - 如何 运用 ...      1         0   \n1  讲 的 是 孔子 后人 的 故事 。 一个 老 领导 回到 家乡 ， 跟 儿子 感情 不 和...      0         0   \n\n   from_tsinghua  from_126  from_yahoo  from_12  from_21  from_tom  \\\n0              0         0           0        0        0         0   \n1              0         0           0        0        0         0   \n\n   from_cernet  from_sohu  from_unknown  time_area  content_length  \n0            0          0             1          1               6  \n1            0          0             0          1               3  ",
      "text/html": "<div>\n<style scoped>\n    .dataframe tbody tr th:only-of-type {\n        vertical-align: middle;\n    }\n\n    .dataframe tbody tr th {\n        vertical-align: top;\n    }\n\n    .dataframe thead th {\n        text-align: right;\n    }\n</style>\n<table border=\"1\" class=\"dataframe\">\n  <thead>\n    <tr style=\"text-align: right;\">\n      <th></th>\n      <th>from</th>\n      <th>to</th>\n      <th>date</th>\n      <th>content</th>\n      <th>label</th>\n      <th>from_163</th>\n      <th>from_tsinghua</th>\n      <th>from_126</th>\n      <th>from_yahoo</th>\n      <th>from_12</th>\n      <th>from_21</th>\n      <th>from_tom</th>\n      <th>from_cernet</th>\n      <th>from_sohu</th>\n      <th>from_unknown</th>\n      <th>time_area</th>\n      <th>content_length</th>\n    </tr>\n  </thead>\n  <tbody>\n    <tr>\n      <th>0</th>\n      <td>unknown</td>\n      <td>ccert.edu.cn</td>\n      <td>10.0</td>\n      <td>非 财务 纠淼 牟 莆 窆 芾 - （ 沙盘 模拟 ） - - - - - - 如何 运用 ...</td>\n      <td>1</td>\n      <td>0</td>\n      <td>0</td>\n      <td>0</td>\n      <td>0</td>\n      <td>0</td>\n      <td>0</td>\n      <td>0</td>\n      <td>0</td>\n      <td>0</td>\n      <td>1</td>\n      <td>1</td>\n      <td>6</td>\n    </tr>\n    <tr>\n      <th>1</th>\n      <td>jdl.ac.cn</td>\n      <td>ccert.edu.cn</td>\n      <td>10.0</td>\n      <td>讲 的 是 孔子 后人 的 故事 。 一个 老 领导 回到 家乡 ， 跟 儿子 感情 不 和...</td>\n      <td>0</td>\n      <td>0</td>\n      <td>0</td>\n      <td>0</td>\n      <td>0</td>\n      <td>0</td>\n      <td>0</td>\n      <td>0</td>\n      <td>0</td>\n      <td>0</td>\n      <td>0</td>\n      <td>1</td>\n      <td>3</td>\n    </tr>\n  </tbody>\n</table>\n</div>"
     },
     "execution_count": 77,
     "metadata": {},
     "output_type": "execute_result"
    }
   ],
   "source": [
    "tfidf = TfidfVectorizer(norm='l2',use_idf=True) # tfidf\n",
    "# tfidf = TfidfVectorizer(norm='l2',use_idf=True,stop_words=stopList) # tfidf\n",
    "content = tfidf.fit_transform(data['content'])\n",
    "data.head(2)"
   ],
   "metadata": {
    "collapsed": false,
    "pycharm": {
     "name": "#%%\n"
    }
   }
  },
  {
   "cell_type": "code",
   "execution_count": 78,
   "metadata": {},
   "outputs": [
    {
     "data": {
      "text/plain": "         0         1         2         3         4         5         6   \\\n0  0.078432  0.211099  0.072584 -0.039107  0.057513  0.424692  0.026275   \n1  0.002630  0.038859  0.036852  0.015526 -0.028232 -0.012650 -0.001996   \n\n         7         8         9   ...        20        21        22        23  \\\n0 -0.098103  0.224738  0.010615  ... -0.004307 -0.035336 -0.014330  0.006857   \n1 -0.003968  0.016763  0.000865  ...  0.002947  0.004910  0.000283  0.000167   \n\n         24        25        26        27        28        29  \n0  0.063970 -0.003622  0.033663 -0.011141  0.030228 -0.033240  \n1  0.001478  0.002363 -0.010700 -0.007371  0.002142 -0.006853  \n\n[2 rows x 30 columns]",
      "text/html": "<div>\n<style scoped>\n    .dataframe tbody tr th:only-of-type {\n        vertical-align: middle;\n    }\n\n    .dataframe tbody tr th {\n        vertical-align: top;\n    }\n\n    .dataframe thead th {\n        text-align: right;\n    }\n</style>\n<table border=\"1\" class=\"dataframe\">\n  <thead>\n    <tr style=\"text-align: right;\">\n      <th></th>\n      <th>0</th>\n      <th>1</th>\n      <th>2</th>\n      <th>3</th>\n      <th>4</th>\n      <th>5</th>\n      <th>6</th>\n      <th>7</th>\n      <th>8</th>\n      <th>9</th>\n      <th>...</th>\n      <th>20</th>\n      <th>21</th>\n      <th>22</th>\n      <th>23</th>\n      <th>24</th>\n      <th>25</th>\n      <th>26</th>\n      <th>27</th>\n      <th>28</th>\n      <th>29</th>\n    </tr>\n  </thead>\n  <tbody>\n    <tr>\n      <th>0</th>\n      <td>0.078432</td>\n      <td>0.211099</td>\n      <td>0.072584</td>\n      <td>-0.039107</td>\n      <td>0.057513</td>\n      <td>0.424692</td>\n      <td>0.026275</td>\n      <td>-0.098103</td>\n      <td>0.224738</td>\n      <td>0.010615</td>\n      <td>...</td>\n      <td>-0.004307</td>\n      <td>-0.035336</td>\n      <td>-0.014330</td>\n      <td>0.006857</td>\n      <td>0.063970</td>\n      <td>-0.003622</td>\n      <td>0.033663</td>\n      <td>-0.011141</td>\n      <td>0.030228</td>\n      <td>-0.033240</td>\n    </tr>\n    <tr>\n      <th>1</th>\n      <td>0.002630</td>\n      <td>0.038859</td>\n      <td>0.036852</td>\n      <td>0.015526</td>\n      <td>-0.028232</td>\n      <td>-0.012650</td>\n      <td>-0.001996</td>\n      <td>-0.003968</td>\n      <td>0.016763</td>\n      <td>0.000865</td>\n      <td>...</td>\n      <td>0.002947</td>\n      <td>0.004910</td>\n      <td>0.000283</td>\n      <td>0.000167</td>\n      <td>0.001478</td>\n      <td>0.002363</td>\n      <td>-0.010700</td>\n      <td>-0.007371</td>\n      <td>0.002142</td>\n      <td>-0.006853</td>\n    </tr>\n  </tbody>\n</table>\n<p>2 rows × 30 columns</p>\n</div>"
     },
     "execution_count": 78,
     "metadata": {},
     "output_type": "execute_result"
    }
   ],
   "source": [
    "svd = TruncatedSVD(n_components=30)  # 因为TF转换之后的数据是特别大的，所以这里进行一个svd降维\n",
    "content = svd.fit_transform(content)\n",
    "content = pd.DataFrame(content)\n",
    "content.head(2)"
   ]
  },
  {
   "cell_type": "code",
   "execution_count": 79,
   "metadata": {},
   "outputs": [
    {
     "data": {
      "text/plain": "['./model/svd.pkl']"
     },
     "execution_count": 79,
     "metadata": {},
     "output_type": "execute_result"
    }
   ],
   "source": [
    "# 保存tfidf和svd模型\n",
    "if not os.path.exists('./model'):\n",
    "    os.mkdir('./model')\n",
    "\n",
    "joblib.dump(tfidf,'./model/tfidf.pkl')\n",
    "joblib.dump(svd,'./model/svd.pkl')"
   ]
  },
  {
   "cell_type": "code",
   "execution_count": 80,
   "metadata": {},
   "outputs": [
    {
     "data": {
      "text/plain": "        from            to  date  \\\n0    unknown  ccert.edu.cn  10.0   \n1  jdl.ac.cn  ccert.edu.cn  10.0   \n\n                                             content  label  from_163  \\\n0  非 财务 纠淼 牟 莆 窆 芾 - （ 沙盘 模拟 ） - - - - - - 如何 运用 ...      1         0   \n1  讲 的 是 孔子 后人 的 故事 。 一个 老 领导 回到 家乡 ， 跟 儿子 感情 不 和...      0         0   \n\n   from_tsinghua  from_126  from_yahoo  from_12  ...        20        21  \\\n0              0         0           0        0  ... -0.004307 -0.035336   \n1              0         0           0        0  ...  0.002947  0.004910   \n\n         22        23        24        25        26        27        28  \\\n0 -0.014330  0.006857  0.063970 -0.003622  0.033663 -0.011141  0.030228   \n1  0.000283  0.000167  0.001478  0.002363 -0.010700 -0.007371  0.002142   \n\n         29  \n0 -0.033240  \n1 -0.006853  \n\n[2 rows x 47 columns]",
      "text/html": "<div>\n<style scoped>\n    .dataframe tbody tr th:only-of-type {\n        vertical-align: middle;\n    }\n\n    .dataframe tbody tr th {\n        vertical-align: top;\n    }\n\n    .dataframe thead th {\n        text-align: right;\n    }\n</style>\n<table border=\"1\" class=\"dataframe\">\n  <thead>\n    <tr style=\"text-align: right;\">\n      <th></th>\n      <th>from</th>\n      <th>to</th>\n      <th>date</th>\n      <th>content</th>\n      <th>label</th>\n      <th>from_163</th>\n      <th>from_tsinghua</th>\n      <th>from_126</th>\n      <th>from_yahoo</th>\n      <th>from_12</th>\n      <th>...</th>\n      <th>20</th>\n      <th>21</th>\n      <th>22</th>\n      <th>23</th>\n      <th>24</th>\n      <th>25</th>\n      <th>26</th>\n      <th>27</th>\n      <th>28</th>\n      <th>29</th>\n    </tr>\n  </thead>\n  <tbody>\n    <tr>\n      <th>0</th>\n      <td>unknown</td>\n      <td>ccert.edu.cn</td>\n      <td>10.0</td>\n      <td>非 财务 纠淼 牟 莆 窆 芾 - （ 沙盘 模拟 ） - - - - - - 如何 运用 ...</td>\n      <td>1</td>\n      <td>0</td>\n      <td>0</td>\n      <td>0</td>\n      <td>0</td>\n      <td>0</td>\n      <td>...</td>\n      <td>-0.004307</td>\n      <td>-0.035336</td>\n      <td>-0.014330</td>\n      <td>0.006857</td>\n      <td>0.063970</td>\n      <td>-0.003622</td>\n      <td>0.033663</td>\n      <td>-0.011141</td>\n      <td>0.030228</td>\n      <td>-0.033240</td>\n    </tr>\n    <tr>\n      <th>1</th>\n      <td>jdl.ac.cn</td>\n      <td>ccert.edu.cn</td>\n      <td>10.0</td>\n      <td>讲 的 是 孔子 后人 的 故事 。 一个 老 领导 回到 家乡 ， 跟 儿子 感情 不 和...</td>\n      <td>0</td>\n      <td>0</td>\n      <td>0</td>\n      <td>0</td>\n      <td>0</td>\n      <td>0</td>\n      <td>...</td>\n      <td>0.002947</td>\n      <td>0.004910</td>\n      <td>0.000283</td>\n      <td>0.000167</td>\n      <td>0.001478</td>\n      <td>0.002363</td>\n      <td>-0.010700</td>\n      <td>-0.007371</td>\n      <td>0.002142</td>\n      <td>-0.006853</td>\n    </tr>\n  </tbody>\n</table>\n<p>2 rows × 47 columns</p>\n</div>"
     },
     "execution_count": 80,
     "metadata": {},
     "output_type": "execute_result"
    }
   ],
   "source": [
    "data = pd.concat([data,content],axis=1)\n",
    "data.head(2)"
   ]
  },
  {
   "cell_type": "markdown",
   "metadata": {},
   "source": [
    "## 删除特征"
   ]
  },
  {
   "cell_type": "code",
   "execution_count": 81,
   "metadata": {},
   "outputs": [],
   "source": [
    "data.drop(columns=['from','to','date','content'],inplace=True)"
   ]
  },
  {
   "cell_type": "code",
   "execution_count": 82,
   "metadata": {},
   "outputs": [
    {
     "data": {
      "text/plain": "   label  from_163  from_tsinghua  from_126  from_yahoo  from_12  from_21  \\\n0      1         0              0         0           0        0        0   \n1      0         0              0         0           0        0        0   \n2      1         0              0         0           0        0        0   \n3      1         0              0         0           0        1        0   \n4      1         0              0         0           0        0        0   \n\n   from_tom  from_cernet  from_sohu  from_unknown  time_area  content_length  \\\n0         0            0          0             1          1               6   \n1         0            0          0             0          1               3   \n2         0            0          0             0          1               3   \n3         0            0          0             0          1               3   \n4         0            0          0             0          1               9   \n\n          0         1         2         3         4         5         6  \\\n0  0.078432  0.211099  0.072584 -0.039107  0.057513  0.424692  0.026275   \n1  0.002630  0.038859  0.036852  0.015526 -0.028232 -0.012650 -0.001996   \n2  0.483393  0.063321 -0.163205  0.081651  0.016074 -0.040295 -0.097364   \n3  0.499190 -0.021197 -0.078142  0.121222  0.017583 -0.002065  0.011362   \n4  0.088770  0.235732  0.151445  0.012069 -0.023876 -0.009053  0.005113   \n\n          7         8         9        10        11        12        13  \\\n0 -0.098103  0.224738  0.010615 -0.036659 -0.098175  0.076448 -0.000026   \n1 -0.003968  0.016763  0.000865 -0.004910 -0.001412  0.002094  0.000022   \n2  0.013982  0.135498  0.010357  0.359660  0.079012  0.083766 -0.000068   \n3  0.031504 -0.071921 -0.004439  0.114837 -0.229788  0.070939  0.000107   \n4  0.007841 -0.123595 -0.006285  0.023798  0.044898 -0.052884  0.000123   \n\n         14        15        16        17        18        19        20  \\\n0 -0.000470  0.036144 -0.019629  0.040582  0.010514 -0.021962 -0.004307   \n1  0.001164  0.001976 -0.000509 -0.002576  0.001447  0.003877  0.002947   \n2 -0.132013 -0.040874 -0.075212  0.102125 -0.090972  0.042855  0.001825   \n3  0.420198  0.172331  0.340666 -0.015062 -0.038823  0.041888 -0.003101   \n4  0.057592 -0.003201 -0.018449 -0.011178  0.014405  0.072120 -0.017614   \n\n         21        22        23        24        25        26        27  \\\n0 -0.035336 -0.014330  0.006857  0.063970 -0.003622  0.033663 -0.011141   \n1  0.004910  0.000283  0.000167  0.001478  0.002363 -0.010700 -0.007371   \n2  0.022499 -0.041646  0.060281  0.045134 -0.014654  0.161072 -0.276929   \n3  0.036987 -0.037683  0.104901  0.187699 -0.047755 -0.030588  0.040207   \n4  0.159260 -0.053957 -0.072646 -0.021597  0.050826  0.079311 -0.013074   \n\n         28        29  \n0  0.030228 -0.033240  \n1  0.002142 -0.006853  \n2  0.051352  0.042897  \n3  0.093964  0.017633  \n4  0.057712 -0.058921  ",
      "text/html": "<div>\n<style scoped>\n    .dataframe tbody tr th:only-of-type {\n        vertical-align: middle;\n    }\n\n    .dataframe tbody tr th {\n        vertical-align: top;\n    }\n\n    .dataframe thead th {\n        text-align: right;\n    }\n</style>\n<table border=\"1\" class=\"dataframe\">\n  <thead>\n    <tr style=\"text-align: right;\">\n      <th></th>\n      <th>label</th>\n      <th>from_163</th>\n      <th>from_tsinghua</th>\n      <th>from_126</th>\n      <th>from_yahoo</th>\n      <th>from_12</th>\n      <th>from_21</th>\n      <th>from_tom</th>\n      <th>from_cernet</th>\n      <th>from_sohu</th>\n      <th>from_unknown</th>\n      <th>time_area</th>\n      <th>content_length</th>\n      <th>0</th>\n      <th>1</th>\n      <th>2</th>\n      <th>3</th>\n      <th>4</th>\n      <th>5</th>\n      <th>6</th>\n      <th>7</th>\n      <th>8</th>\n      <th>9</th>\n      <th>10</th>\n      <th>11</th>\n      <th>12</th>\n      <th>13</th>\n      <th>14</th>\n      <th>15</th>\n      <th>16</th>\n      <th>17</th>\n      <th>18</th>\n      <th>19</th>\n      <th>20</th>\n      <th>21</th>\n      <th>22</th>\n      <th>23</th>\n      <th>24</th>\n      <th>25</th>\n      <th>26</th>\n      <th>27</th>\n      <th>28</th>\n      <th>29</th>\n    </tr>\n  </thead>\n  <tbody>\n    <tr>\n      <th>0</th>\n      <td>1</td>\n      <td>0</td>\n      <td>0</td>\n      <td>0</td>\n      <td>0</td>\n      <td>0</td>\n      <td>0</td>\n      <td>0</td>\n      <td>0</td>\n      <td>0</td>\n      <td>1</td>\n      <td>1</td>\n      <td>6</td>\n      <td>0.078432</td>\n      <td>0.211099</td>\n      <td>0.072584</td>\n      <td>-0.039107</td>\n      <td>0.057513</td>\n      <td>0.424692</td>\n      <td>0.026275</td>\n      <td>-0.098103</td>\n      <td>0.224738</td>\n      <td>0.010615</td>\n      <td>-0.036659</td>\n      <td>-0.098175</td>\n      <td>0.076448</td>\n      <td>-0.000026</td>\n      <td>-0.000470</td>\n      <td>0.036144</td>\n      <td>-0.019629</td>\n      <td>0.040582</td>\n      <td>0.010514</td>\n      <td>-0.021962</td>\n      <td>-0.004307</td>\n      <td>-0.035336</td>\n      <td>-0.014330</td>\n      <td>0.006857</td>\n      <td>0.063970</td>\n      <td>-0.003622</td>\n      <td>0.033663</td>\n      <td>-0.011141</td>\n      <td>0.030228</td>\n      <td>-0.033240</td>\n    </tr>\n    <tr>\n      <th>1</th>\n      <td>0</td>\n      <td>0</td>\n      <td>0</td>\n      <td>0</td>\n      <td>0</td>\n      <td>0</td>\n      <td>0</td>\n      <td>0</td>\n      <td>0</td>\n      <td>0</td>\n      <td>0</td>\n      <td>1</td>\n      <td>3</td>\n      <td>0.002630</td>\n      <td>0.038859</td>\n      <td>0.036852</td>\n      <td>0.015526</td>\n      <td>-0.028232</td>\n      <td>-0.012650</td>\n      <td>-0.001996</td>\n      <td>-0.003968</td>\n      <td>0.016763</td>\n      <td>0.000865</td>\n      <td>-0.004910</td>\n      <td>-0.001412</td>\n      <td>0.002094</td>\n      <td>0.000022</td>\n      <td>0.001164</td>\n      <td>0.001976</td>\n      <td>-0.000509</td>\n      <td>-0.002576</td>\n      <td>0.001447</td>\n      <td>0.003877</td>\n      <td>0.002947</td>\n      <td>0.004910</td>\n      <td>0.000283</td>\n      <td>0.000167</td>\n      <td>0.001478</td>\n      <td>0.002363</td>\n      <td>-0.010700</td>\n      <td>-0.007371</td>\n      <td>0.002142</td>\n      <td>-0.006853</td>\n    </tr>\n    <tr>\n      <th>2</th>\n      <td>1</td>\n      <td>0</td>\n      <td>0</td>\n      <td>0</td>\n      <td>0</td>\n      <td>0</td>\n      <td>0</td>\n      <td>0</td>\n      <td>0</td>\n      <td>0</td>\n      <td>0</td>\n      <td>1</td>\n      <td>3</td>\n      <td>0.483393</td>\n      <td>0.063321</td>\n      <td>-0.163205</td>\n      <td>0.081651</td>\n      <td>0.016074</td>\n      <td>-0.040295</td>\n      <td>-0.097364</td>\n      <td>0.013982</td>\n      <td>0.135498</td>\n      <td>0.010357</td>\n      <td>0.359660</td>\n      <td>0.079012</td>\n      <td>0.083766</td>\n      <td>-0.000068</td>\n      <td>-0.132013</td>\n      <td>-0.040874</td>\n      <td>-0.075212</td>\n      <td>0.102125</td>\n      <td>-0.090972</td>\n      <td>0.042855</td>\n      <td>0.001825</td>\n      <td>0.022499</td>\n      <td>-0.041646</td>\n      <td>0.060281</td>\n      <td>0.045134</td>\n      <td>-0.014654</td>\n      <td>0.161072</td>\n      <td>-0.276929</td>\n      <td>0.051352</td>\n      <td>0.042897</td>\n    </tr>\n    <tr>\n      <th>3</th>\n      <td>1</td>\n      <td>0</td>\n      <td>0</td>\n      <td>0</td>\n      <td>0</td>\n      <td>1</td>\n      <td>0</td>\n      <td>0</td>\n      <td>0</td>\n      <td>0</td>\n      <td>0</td>\n      <td>1</td>\n      <td>3</td>\n      <td>0.499190</td>\n      <td>-0.021197</td>\n      <td>-0.078142</td>\n      <td>0.121222</td>\n      <td>0.017583</td>\n      <td>-0.002065</td>\n      <td>0.011362</td>\n      <td>0.031504</td>\n      <td>-0.071921</td>\n      <td>-0.004439</td>\n      <td>0.114837</td>\n      <td>-0.229788</td>\n      <td>0.070939</td>\n      <td>0.000107</td>\n      <td>0.420198</td>\n      <td>0.172331</td>\n      <td>0.340666</td>\n      <td>-0.015062</td>\n      <td>-0.038823</td>\n      <td>0.041888</td>\n      <td>-0.003101</td>\n      <td>0.036987</td>\n      <td>-0.037683</td>\n      <td>0.104901</td>\n      <td>0.187699</td>\n      <td>-0.047755</td>\n      <td>-0.030588</td>\n      <td>0.040207</td>\n      <td>0.093964</td>\n      <td>0.017633</td>\n    </tr>\n    <tr>\n      <th>4</th>\n      <td>1</td>\n      <td>0</td>\n      <td>0</td>\n      <td>0</td>\n      <td>0</td>\n      <td>0</td>\n      <td>0</td>\n      <td>0</td>\n      <td>0</td>\n      <td>0</td>\n      <td>0</td>\n      <td>1</td>\n      <td>9</td>\n      <td>0.088770</td>\n      <td>0.235732</td>\n      <td>0.151445</td>\n      <td>0.012069</td>\n      <td>-0.023876</td>\n      <td>-0.009053</td>\n      <td>0.005113</td>\n      <td>0.007841</td>\n      <td>-0.123595</td>\n      <td>-0.006285</td>\n      <td>0.023798</td>\n      <td>0.044898</td>\n      <td>-0.052884</td>\n      <td>0.000123</td>\n      <td>0.057592</td>\n      <td>-0.003201</td>\n      <td>-0.018449</td>\n      <td>-0.011178</td>\n      <td>0.014405</td>\n      <td>0.072120</td>\n      <td>-0.017614</td>\n      <td>0.159260</td>\n      <td>-0.053957</td>\n      <td>-0.072646</td>\n      <td>-0.021597</td>\n      <td>0.050826</td>\n      <td>0.079311</td>\n      <td>-0.013074</td>\n      <td>0.057712</td>\n      <td>-0.058921</td>\n    </tr>\n  </tbody>\n</table>\n</div>"
     },
     "execution_count": 82,
     "metadata": {},
     "output_type": "execute_result"
    }
   ],
   "source": [
    "pd.set_option('max_columns', 50)\n",
    "data.head()"
   ]
  },
  {
   "cell_type": "code",
   "execution_count": 83,
   "metadata": {},
   "outputs": [
    {
     "name": "stdout",
     "output_type": "stream",
     "text": [
      "<class 'pandas.core.frame.DataFrame'>\n",
      "RangeIndex: 64620 entries, 0 to 64619\n",
      "Data columns (total 43 columns):\n",
      " #   Column          Non-Null Count  Dtype  \n",
      "---  ------          --------------  -----  \n",
      " 0   label           64620 non-null  int64  \n",
      " 1   from_163        64620 non-null  int64  \n",
      " 2   from_tsinghua   64620 non-null  int64  \n",
      " 3   from_126        64620 non-null  int64  \n",
      " 4   from_yahoo      64620 non-null  int64  \n",
      " 5   from_12         64620 non-null  int64  \n",
      " 6   from_21         64620 non-null  int64  \n",
      " 7   from_tom        64620 non-null  int64  \n",
      " 8   from_cernet     64620 non-null  int64  \n",
      " 9   from_sohu       64620 non-null  int64  \n",
      " 10  from_unknown    64620 non-null  int64  \n",
      " 11  time_area       64620 non-null  int64  \n",
      " 12  content_length  64620 non-null  int64  \n",
      " 13  0               64620 non-null  float64\n",
      " 14  1               64620 non-null  float64\n",
      " 15  2               64620 non-null  float64\n",
      " 16  3               64620 non-null  float64\n",
      " 17  4               64620 non-null  float64\n",
      " 18  5               64620 non-null  float64\n",
      " 19  6               64620 non-null  float64\n",
      " 20  7               64620 non-null  float64\n",
      " 21  8               64620 non-null  float64\n",
      " 22  9               64620 non-null  float64\n",
      " 23  10              64620 non-null  float64\n",
      " 24  11              64620 non-null  float64\n",
      " 25  12              64620 non-null  float64\n",
      " 26  13              64620 non-null  float64\n",
      " 27  14              64620 non-null  float64\n",
      " 28  15              64620 non-null  float64\n",
      " 29  16              64620 non-null  float64\n",
      " 30  17              64620 non-null  float64\n",
      " 31  18              64620 non-null  float64\n",
      " 32  19              64620 non-null  float64\n",
      " 33  20              64620 non-null  float64\n",
      " 34  21              64620 non-null  float64\n",
      " 35  22              64620 non-null  float64\n",
      " 36  23              64620 non-null  float64\n",
      " 37  24              64620 non-null  float64\n",
      " 38  25              64620 non-null  float64\n",
      " 39  26              64620 non-null  float64\n",
      " 40  27              64620 non-null  float64\n",
      " 41  28              64620 non-null  float64\n",
      " 42  29              64620 non-null  float64\n",
      "dtypes: float64(30), int64(13)\n",
      "memory usage: 21.2 MB\n"
     ]
    }
   ],
   "source": [
    "data.info()"
   ]
  },
  {
   "cell_type": "markdown",
   "metadata": {},
   "source": [
    "# 保存处理后的数据"
   ]
  },
  {
   "cell_type": "code",
   "execution_count": 84,
   "metadata": {},
   "outputs": [],
   "source": [
    "if not os.path.exists('./datas'):\n",
    "    os.mkdir('./datas')\n",
    "    \n",
    "data.to_csv('./datas/data.csv',index=False)"
   ]
  }
 ],
 "metadata": {
  "kernelspec": {
   "name": "pycharm-3fe25ccb",
   "language": "python",
   "display_name": "PyCharm (Bayes2)"
  },
  "language_info": {
   "codemirror_mode": {
    "name": "ipython",
    "version": 3
   },
   "file_extension": ".py",
   "mimetype": "text/x-python",
   "name": "python",
   "nbconvert_exporter": "python",
   "pygments_lexer": "ipython3",
   "version": "3.6.5"
  },
  "toc": {
   "base_numbering": 1,
   "nav_menu": {},
   "number_sections": true,
   "sideBar": true,
   "skip_h1_title": false,
   "title_cell": "Table of Contents",
   "title_sidebar": "Contents",
   "toc_cell": false,
   "toc_position": {},
   "toc_section_display": true,
   "toc_window_display": false
  }
 },
 "nbformat": 4,
 "nbformat_minor": 2
}